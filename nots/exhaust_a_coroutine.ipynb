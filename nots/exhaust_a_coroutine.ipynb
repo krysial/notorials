{
 "cells": [
  {
   "cell_type": "markdown",
   "metadata": {},
   "source": [
    "Exhausting a coroutine.\n",
    "\n",
    "Coroutines use `async def` to be defined"
   ]
  },
  {
   "cell_type": "code",
   "execution_count": 1,
   "metadata": {},
   "outputs": [],
   "source": [
    "import time"
   ]
  },
  {
   "cell_type": "code",
   "execution_count": 3,
   "metadata": {},
   "outputs": [
    {
     "ename": "StopIteration",
     "evalue": "Yup, I am done.",
     "output_type": "error",
     "traceback": [
      "\u001b[0;31m---------------------------------------------------------------------------\u001b[0m",
      "\u001b[0;31mStopIteration\u001b[0m                             Traceback (most recent call last)",
      "Cell \u001b[0;32mIn[3], line 9\u001b[0m\n\u001b[1;32m      4\u001b[0m     \u001b[38;5;28;01mreturn\u001b[39;00m \u001b[38;5;124m\"\u001b[39m\u001b[38;5;124mYup, I am done.\u001b[39m\u001b[38;5;124m\"\u001b[39m\n\u001b[1;32m      7\u001b[0m simplest_coro_obj \u001b[38;5;241m=\u001b[39m simplest_coroutine()\n\u001b[0;32m----> 9\u001b[0m \u001b[38;5;28mprint\u001b[39m(\u001b[43msimplest_coro_obj\u001b[49m\u001b[38;5;241;43m.\u001b[39;49m\u001b[43msend\u001b[49m\u001b[43m(\u001b[49m\u001b[38;5;28;43;01mNone\u001b[39;49;00m\u001b[43m)\u001b[49m)  \u001b[38;5;66;03m# first .send to a coroutine must always be `None` \u001b[39;00m\n\u001b[1;32m     12\u001b[0m \u001b[38;5;66;03m# When the coroutine function reaches the end it raises a StopIteration\u001b[39;00m\n\u001b[1;32m     13\u001b[0m \u001b[38;5;66;03m# The StopIteration obj contains a `value` property with the function's return, if any, if not None.\u001b[39;00m\n",
      "\u001b[0;31mStopIteration\u001b[0m: Yup, I am done."
     ]
    }
   ],
   "source": [
    "# simplest coroutine\n",
    "\n",
    "async def simplest_coroutine():\n",
    "    return \"Yup, I am done.\"\n",
    "\n",
    "\n",
    "simplest_coro_obj = simplest_coroutine()\n",
    "\n",
    "print(simplest_coro_obj.send(None))  # first .send to a coroutine must always be `None` \n",
    "\n",
    "\n",
    "# When the coroutine function reaches the end it raises a StopIteration\n",
    "# The StopIteration obj contains a `value` property with the function's return, if any, if not None.\n",
    " "
   ]
  },
  {
   "cell_type": "code",
   "execution_count": 4,
   "metadata": {},
   "outputs": [
    {
     "name": "stdout",
     "output_type": "stream",
     "text": [
      "Return value:  Yup, I am done.\n"
     ]
    }
   ],
   "source": [
    "# The caller function (the one calling the .send) is the one that should handle the StopIteration error.\n",
    "# Something like..\n",
    "\n",
    "simplest_coro_obj2 = simplest_coroutine()\n",
    "\n",
    "try:\n",
    "\n",
    "    simplest_coro_obj2.send(None)\n",
    "\n",
    "except StopIteration as e:\n",
    "    print(\"Return value: \", e.value)\n",
    "\n"
   ]
  },
  {
   "cell_type": "code",
   "execution_count": 5,
   "metadata": {},
   "outputs": [],
   "source": [
    "# More complex coroutines\n",
    "\n",
    "\n",
    "from collections.abc import Awaitable\n",
    "class MyIterator(Awaitable):\n",
    "    def __init__(self, iterator):\n",
    "        self.iterator = iterator\n",
    "\n",
    "    def __iter__(self):\n",
    "        return self.iterator\n",
    "\n",
    "    def __next__(self):\n",
    "        return next(self.iterator)\n",
    "\n",
    "    __await__ = __iter__\n"
   ]
  },
  {
   "cell_type": "code",
   "execution_count": 6,
   "metadata": {},
   "outputs": [
    {
     "name": "stdout",
     "output_type": "stream",
     "text": [
      "<class 'function'>\n",
      "<class 'coroutine'>\n"
     ]
    },
    {
     "name": "stderr",
     "output_type": "stream",
     "text": [
      "RuntimeWarning: coroutine 'coroutine1' was never awaited\n",
      "  print(type(coroutine1()))\n",
      "RuntimeWarning: Enable tracemalloc to get the object allocation traceback\n"
     ]
    }
   ],
   "source": [
    "async def coroutine1():\n",
    "    sequence = [1,2,3,4,5,6]\n",
    "\n",
    "    await MyIterator(iter(sequence)) \n",
    "    # await expects an interator but a plain one wont do. Bc `await` expects an object that implements `__await__`\n",
    "    # this `__await__` function should return an iterator (a generator iterator would do as well)\n",
    "\n",
    "    return \"coroutine1: Return after await\"\n",
    "\n",
    "print(type(coroutine1))\n",
    "print(type(coroutine1()))"
   ]
  },
  {
   "cell_type": "code",
   "execution_count": null,
   "metadata": {},
   "outputs": [
    {
     "name": "stdout",
     "output_type": "stream",
     "text": [
      "1\n",
      "2\n",
      "3\n",
      "4\n",
      "5\n",
      "6\n"
     ]
    },
    {
     "ename": "StopIteration",
     "evalue": "coroutine1: Return after await",
     "output_type": "error",
     "traceback": [
      "\u001b[0;31m---------------------------------------------------------------------------\u001b[0m",
      "\u001b[0;31mStopIteration\u001b[0m                             Traceback (most recent call last)",
      "Cell \u001b[0;32mIn[7], line 10\u001b[0m\n\u001b[1;32m      7\u001b[0m \u001b[38;5;28mprint\u001b[39m(coro1_obj\u001b[38;5;241m.\u001b[39msend(\u001b[38;5;28;01mNone\u001b[39;00m))  \u001b[38;5;66;03m#5\u001b[39;00m\n\u001b[1;32m      8\u001b[0m \u001b[38;5;28mprint\u001b[39m(coro1_obj\u001b[38;5;241m.\u001b[39msend(\u001b[38;5;28;01mNone\u001b[39;00m))  \u001b[38;5;66;03m#6\u001b[39;00m\n\u001b[0;32m---> 10\u001b[0m \u001b[38;5;28mprint\u001b[39m(\u001b[43mcoro1_obj\u001b[49m\u001b[38;5;241;43m.\u001b[39;49m\u001b[43msend\u001b[49m\u001b[43m(\u001b[49m\u001b[38;5;28;43;01mNone\u001b[39;49;00m\u001b[43m)\u001b[49m)  \u001b[38;5;66;03m# StopIteration error from MyIterator\u001b[39;00m\n\u001b[1;32m     12\u001b[0m \u001b[38;5;66;03m# la coroutine in itself acts as an iterator, so when exhausted the coroutine itself raises StopIteration with the return value \u001b[39;00m\n",
      "\u001b[0;31mStopIteration\u001b[0m: coroutine1: Return after await"
     ]
    }
   ],
   "source": [
    "coro1_obj = coroutine1()\n",
    "\n",
    "print(coro1_obj.send(None))  #1\n",
    "print(coro1_obj.send(None))  #2\n",
    "print(coro1_obj.send(None))  #3\n",
    "print(coro1_obj.send(None))  #4\n",
    "print(coro1_obj.send(None))  #5\n",
    "print(coro1_obj.send(None))  #6\n",
    "\n",
    "print(coro1_obj.send(None))  # StopIteration error from MyIterator\n",
    "\n",
    "# the coroutine in itself acts as an iterator, so when exhausted the coroutine itself raises StopIteration with the return value \n"
   ]
  },
  {
   "cell_type": "code",
   "execution_count": 8,
   "metadata": {},
   "outputs": [
    {
     "name": "stdout",
     "output_type": "stream",
     "text": [
      "output:  None\n",
      "output:  1\n",
      "output:  2\n",
      "output:  3\n",
      "No more iteration after this point (it will raise: StopIteration)\n"
     ]
    }
   ],
   "source": [
    "# another sample with a dedicated awaitable\n",
    "\n",
    "from typing import Any, Generator\n",
    "\n",
    "\n",
    "class MyAwaitable(Awaitable):  # MyAwaitable is not made iterable (implement __iter__) on purpose. it is o\n",
    "    def __await__(self) -> Generator[Any, Any, Any]:\n",
    "        yield\n",
    "        yield 1\n",
    "        yield 2\n",
    "        yield 3\n",
    "\n",
    "        print(\"No more iteration after this point (it will raise: StopIteration)\")\n",
    "\n",
    "        return \"This awaitable has been exhausted, Bye.\"  # like raise: StopIteration(value=<return_value>)\n",
    "    \n",
    "\n",
    "# Run the generator defined in the awaitbale using a for .. in    (hint: no StopIteration error)\n",
    "\n",
    "my_awaitable = MyAwaitable()\n",
    "\n",
    "for a in my_awaitable.__await__():\n",
    "    print(\"output: \", a)\n",
    "\n",
    "\n",
    "# Notice: The return value is not treated as an iteration value. (No \"output: \")\n",
    "# The return value is not meant to be one."
   ]
  },
  {
   "cell_type": "code",
   "execution_count": 9,
   "metadata": {},
   "outputs": [
    {
     "name": "stdout",
     "output_type": "stream",
     "text": [
      "Output: None\n",
      "Output: 1\n",
      "Output: 2\n",
      "Output: 3\n",
      "No more iteration after this point (it will raise: StopIteration)\n"
     ]
    },
    {
     "ename": "StopIteration",
     "evalue": "This awaitable has been exhausted, Bye.",
     "output_type": "error",
     "traceback": [
      "\u001b[0;31m---------------------------------------------------------------------------\u001b[0m",
      "\u001b[0;31mStopIteration\u001b[0m                             Traceback (most recent call last)",
      "Cell \u001b[0;32mIn[9], line 11\u001b[0m\n\u001b[1;32m      8\u001b[0m \u001b[38;5;28mprint\u001b[39m(\u001b[38;5;124m\"\u001b[39m\u001b[38;5;124mOutput:\u001b[39m\u001b[38;5;124m\"\u001b[39m, gen\u001b[38;5;241m.\u001b[39msend(\u001b[38;5;28;01mNone\u001b[39;00m))\n\u001b[1;32m      9\u001b[0m \u001b[38;5;28mprint\u001b[39m(\u001b[38;5;124m\"\u001b[39m\u001b[38;5;124mOutput:\u001b[39m\u001b[38;5;124m\"\u001b[39m, gen\u001b[38;5;241m.\u001b[39msend(\u001b[38;5;28;01mNone\u001b[39;00m))\n\u001b[0;32m---> 11\u001b[0m \u001b[38;5;28mprint\u001b[39m(\u001b[38;5;124m\"\u001b[39m\u001b[38;5;124mOutput:\u001b[39m\u001b[38;5;124m\"\u001b[39m, \u001b[43mgen\u001b[49m\u001b[38;5;241;43m.\u001b[39;49m\u001b[43msend\u001b[49m\u001b[43m(\u001b[49m\u001b[38;5;28;43;01mNone\u001b[39;49;00m\u001b[43m)\u001b[49m)\n",
      "\u001b[0;31mStopIteration\u001b[0m: This awaitable has been exhausted, Bye."
     ]
    }
   ],
   "source": [
    "# Run the generator defined in the awaitbale by hand/manually..   (Hint: StopIteration error is raised)\n",
    "# In the above example the for .. in .. handles the StopIteration for you\n",
    "\n",
    "gen = MyAwaitable().__await__()\n",
    "\n",
    "print(\"Output:\", gen.send(None))\n",
    "print(\"Output:\", gen.send(None))\n",
    "print(\"Output:\", gen.send(None))\n",
    "print(\"Output:\", gen.send(None))\n",
    "\n",
    "print(\"Output:\", gen.send(None))\n"
   ]
  },
  {
   "cell_type": "code",
   "execution_count": 10,
   "metadata": {},
   "outputs": [
    {
     "name": "stdout",
     "output_type": "stream",
     "text": [
      "Output: None\n",
      "Output: 1\n",
      "Output: 2\n",
      "Output: 3\n",
      "No more iteration after this point (it will raise: StopIteration)\n",
      "Return: This awaitable has been exhausted, Bye.\n"
     ]
    }
   ],
   "source": [
    "# Just catch the error..\n",
    "\n",
    "gen = MyAwaitable().__await__()\n",
    "\n",
    "print(\"Output:\", gen.send(None))\n",
    "print(\"Output:\", gen.send(None))\n",
    "print(\"Output:\", gen.send(None))\n",
    "print(\"Output:\", gen.send(None))\n",
    "\n",
    "try:\n",
    "    print(\"Output:\", gen.send(None))\n",
    "except StopIteration as e:\n",
    "    print('Return:', e.value)"
   ]
  },
  {
   "cell_type": "code",
   "execution_count": null,
   "metadata": {},
   "outputs": [
    {
     "name": "stdout",
     "output_type": "stream",
     "text": [
      "None\n",
      "1\n",
      "2\n",
      "3\n",
      "No more iteration after this point (it will raise: StopIteration)\n",
      "msg from coroutine2:  This awaitable has been exhausted, Bye.\n"
     ]
    },
    {
     "ename": "StopIteration",
     "evalue": "This awaitable has been exhausted, Bye.",
     "output_type": "error",
     "traceback": [
      "\u001b[0;31m---------------------------------------------------------------------------\u001b[0m",
      "\u001b[0;31mStopIteration\u001b[0m                             Traceback (most recent call last)",
      "Cell \u001b[0;32mIn[11], line 21\u001b[0m\n\u001b[1;32m     18\u001b[0m \u001b[38;5;28mprint\u001b[39m(coro2_obj\u001b[38;5;241m.\u001b[39msend(\u001b[38;5;28;01mNone\u001b[39;00m))  \u001b[38;5;66;03m# 3\u001b[39;00m\n\u001b[1;32m     20\u001b[0m time\u001b[38;5;241m.\u001b[39msleep(\u001b[38;5;241m3\u001b[39m)\n\u001b[0;32m---> 21\u001b[0m \u001b[38;5;28mprint\u001b[39m(\u001b[43mcoro2_obj\u001b[49m\u001b[38;5;241;43m.\u001b[39;49m\u001b[43msend\u001b[49m\u001b[43m(\u001b[49m\u001b[38;5;28;43;01mNone\u001b[39;49;00m\u001b[43m)\u001b[49m)  \u001b[38;5;66;03m# raises StopIteration\u001b[39;00m\n",
      "\u001b[0;31mStopIteration\u001b[0m: This awaitable has been exhausted, Bye."
     ]
    }
   ],
   "source": [
    "# Awaitable and native coroutines\n",
    "\n",
    "\n",
    "async def coroutine2():  # native coroutines are not iterators (no -> next(nativecoroutine_obj))\n",
    "    output = await MyAwaitable()  \n",
    "    # the intermediate values yielded by `my_awaitable` are not received by coroutine2\n",
    "    # but by whatever calling function is exhausting it  (calling its .send(..) function )\n",
    "    print(\"msg from coroutine2: \", output)\n",
    "    return output\n",
    "\n",
    "\n",
    "coro2_obj = coroutine2()\n",
    "\n",
    "# exhausting the coroutine obj  (use send and always pass None or a value to it)\n",
    "print(coro2_obj.send(None))  # None, as the first yield\n",
    "print(coro2_obj.send(None))  # 1\n",
    "print(coro2_obj.send(None))  # 2\n",
    "print(coro2_obj.send(None))  # 3\n",
    "\n",
    "time.sleep(3)\n",
    "print(coro2_obj.send(None))  # raises StopIteration\n"
   ]
  },
  {
   "cell_type": "code",
   "execution_count": 12,
   "metadata": {},
   "outputs": [
    {
     "name": "stdout",
     "output_type": "stream",
     "text": [
      "None\n",
      "1\n",
      "2\n",
      "3\n",
      "No more iteration after this point (it will raise: StopIteration)\n",
      "coroutine2 received output from my_awaytable:  This awaitable has been exhausted, Bye.\n",
      "coroutine 2 is about to finish\n",
      "StopIteration being handled. Return value:  coroutine2 return value: This awaitable has been exhausted, Bye.\n"
     ]
    }
   ],
   "source": [
    "# Handling the errors above would be like..\n",
    "\n",
    "\n",
    "async def coroutine2():\n",
    "    output = await MyAwaitable()  \n",
    "    print(\"coroutine2 received output from my_awaytable: \", output)\n",
    "    time.sleep(3)\n",
    "    print(\"coroutine 2 is about to finish\")\n",
    "    time.sleep(3)\n",
    "    \n",
    "    return \"coroutine2 return value: \" + output\n",
    "try:  # same code as before below\n",
    "\n",
    "    coro2_obj = coroutine2()\n",
    "\n",
    "    print(coro2_obj.send(None))  # None, as the first yield\n",
    "    print(coro2_obj.send(None))  # 1\n",
    "    print(coro2_obj.send(None))  # 2\n",
    "    print(coro2_obj.send(None))  # 3\n",
    "\n",
    "    print(coro2_obj.send(None))  # raises StopIteration\n",
    "\n",
    "except StopIteration as e:\n",
    "    print(\"StopIteration being handled. Return value: \", e.value)\n",
    "\n",
    "\n",
    "# The StopIteration that needs handling is the one raised from the native coroutine.\n",
    "# the await will handle the one raised by the awaitable \n",
    "\n"
   ]
  },
  {
   "cell_type": "code",
   "execution_count": null,
   "metadata": {},
   "outputs": [
    {
     "name": "stdout",
     "output_type": "stream",
     "text": [
      "Output: None\n",
      "Output: 1\n",
      "Output: 2\n",
      "Output: 3\n",
      "No more iteration after this point (it will raise: StopIteration)\n",
      "coroutine2 received output from my_awaytable:  This awaitable has been exhausted, Bye.\n",
      "coroutine 2 is about to finish\n",
      "Return: coroutine2 return value: This awaitable has been exhausted, Bye.\n"
     ]
    }
   ],
   "source": [
    "# Use a loop\n",
    "# since you do not know or control how many items the coroutine's generator contains\n",
    "# You cannot ask for len\n",
    "# The native coroutine is not an iterator so you can't for..in..\n",
    "# Then use..\n",
    "\n",
    "\n",
    "coro2_obj1 = coroutine2()\n",
    "while True:\n",
    "    try:\n",
    "        print(\"Output:\", coro2_obj1.send(None))\n",
    "    except StopIteration as e:\n",
    "        print(\"Return:\", e.value)\n",
    "        break\n",
    "     "
   ]
  },
  {
   "cell_type": "markdown",
   "metadata": {},
   "source": [
    "So, in summary:\n",
    "\n",
    "- `await` will handle the StoopIteration raised from the awaitable\n",
    "- When you manually exhaust a coroutine (`.send`), and that coroutine ends it will raise StopIteration\n",
    "- Use try.. except to handle the StopIteration error\n",
    "- To get the coroutine return value use the StopIteration's property`value`. \n"
   ]
  }
 ],
 "metadata": {
  "kernelspec": {
   "display_name": "default",
   "language": "python",
   "name": "python3"
  },
  "language_info": {
   "codemirror_mode": {
    "name": "ipython",
    "version": 3
   },
   "file_extension": ".py",
   "mimetype": "text/x-python",
   "name": "python",
   "nbconvert_exporter": "python",
   "pygments_lexer": "ipython3",
   "version": "3.9.16"
  }
 },
 "nbformat": 4,
 "nbformat_minor": 2
}
